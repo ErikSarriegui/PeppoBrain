{
 "cells": [
  {
   "cell_type": "code",
   "execution_count": null,
   "metadata": {},
   "outputs": [],
   "source": [
    "import peppobrain_utils as pb_utils\n",
    "import peppobrain as pb\n",
    "import numpy as np\n",
    "\n",
    "\"\"\"\n",
    "=========================\n",
    "LOAD DATA\n",
    "=========================\n",
    "\"\"\"\n",
    "data_path = 'https://raw.githubusercontent.com/ErikSarriegui/PeppoBrain/refs/heads/main/dataset_example/mnist_train_example.csv'\n",
    "\n",
    "data = np.genfromtxt(data_path, delimiter=',', skip_header=1)\n",
    "\n",
    "\n",
    "\"\"\"\n",
    "=========================\n",
    "PREPARE DATA\n",
    "=========================\n",
    "\"\"\"\n",
    "mask = np.isnan(data).any(axis=1)\n",
    "data = data[~mask]\n",
    "\n",
    "y = data[:, 0].astype(int)\n",
    "x = data[:, 1:] / 255.0\n",
    "\n",
    "y = pb_utils.codificacion_one_hot(y)\n",
    "\n",
    "\"\"\"\n",
    "=========================\n",
    "DEFINE MODEL\n",
    "=========================\n",
    "\"\"\"\n",
    "model = pb.Model(\n",
    "    pb.CapaLinear(784, 128, pb.ReLU()),\n",
    "    pb.CapaLinear(128, 64, pb.ReLU()),\n",
    "    pb.CapaLinear(64, 10, pb.Softmax())\n",
    ")\n",
    "\n",
    "\"\"\"\n",
    "=========================\n",
    "TRAIN MODEL\n",
    "=========================\n",
    "\"\"\"\n",
    "model.entrenar(x, y, 0.3, 50)\n",
    "\n",
    "\"\"\"\n",
    "=========================\n",
    "INFERENCE\n",
    "=========================\n",
    "\"\"\"\n",
    "input = x[0]\n",
    "\n",
    "output = model.inferencia(input)\n",
    "print(output)"
   ]
  }
 ],
 "metadata": {
  "kernelspec": {
   "display_name": "Python 3",
   "language": "python",
   "name": "python3"
  },
  "language_info": {
   "codemirror_mode": {
    "name": "ipython",
    "version": 3
   },
   "file_extension": ".py",
   "mimetype": "text/x-python",
   "name": "python",
   "nbconvert_exporter": "python",
   "pygments_lexer": "ipython3",
   "version": "3.12.6"
  }
 },
 "nbformat": 4,
 "nbformat_minor": 2
}
