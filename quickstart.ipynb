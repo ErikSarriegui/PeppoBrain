{
 "cells": [
  {
   "cell_type": "code",
   "execution_count": 4,
   "metadata": {},
   "outputs": [
    {
     "name": "stdout",
     "output_type": "stream",
     "text": [
      "Epochs: 0 | Loss: 2.447765863630457\n",
      "Epochs: 5 | Loss: 2.228280953483966\n",
      "Epochs: 10 | Loss: 2.077357504781193\n",
      "Epochs: 15 | Loss: 1.9190075830364797\n",
      "Epochs: 20 | Loss: 1.739265488467243\n",
      "Epochs: 25 | Loss: 1.5293626155342692\n",
      "Epochs: 30 | Loss: 1.3578065792388523\n"
     ]
    },
    {
     "ename": "KeyboardInterrupt",
     "evalue": "",
     "output_type": "error",
     "traceback": [
      "\u001b[1;31m---------------------------------------------------------------------------\u001b[0m",
      "\u001b[1;31mKeyboardInterrupt\u001b[0m                         Traceback (most recent call last)",
      "Cell \u001b[1;32mIn[4], line 44\u001b[0m\n\u001b[0;32m     33\u001b[0m model \u001b[38;5;241m=\u001b[39m pb\u001b[38;5;241m.\u001b[39mModel(\n\u001b[0;32m     34\u001b[0m     pb\u001b[38;5;241m.\u001b[39mCapaLinear(\u001b[38;5;241m784\u001b[39m, \u001b[38;5;241m128\u001b[39m, pb\u001b[38;5;241m.\u001b[39mReLU()),\n\u001b[0;32m     35\u001b[0m     pb\u001b[38;5;241m.\u001b[39mCapaLinear(\u001b[38;5;241m128\u001b[39m, \u001b[38;5;241m64\u001b[39m, pb\u001b[38;5;241m.\u001b[39mReLU()),\n\u001b[0;32m     36\u001b[0m     pb\u001b[38;5;241m.\u001b[39mCapaLinear(\u001b[38;5;241m64\u001b[39m, \u001b[38;5;241m10\u001b[39m, pb\u001b[38;5;241m.\u001b[39mSoftmax())\n\u001b[0;32m     37\u001b[0m )\n\u001b[0;32m     39\u001b[0m \u001b[38;5;124;03m\"\"\"\u001b[39;00m\n\u001b[0;32m     40\u001b[0m \u001b[38;5;124;03m=========================\u001b[39;00m\n\u001b[0;32m     41\u001b[0m \u001b[38;5;124;03mTRAIN MODEL\u001b[39;00m\n\u001b[0;32m     42\u001b[0m \u001b[38;5;124;03m=========================\u001b[39;00m\n\u001b[0;32m     43\u001b[0m \u001b[38;5;124;03m\"\"\"\u001b[39;00m\n\u001b[1;32m---> 44\u001b[0m \u001b[43mmodel\u001b[49m\u001b[38;5;241;43m.\u001b[39;49m\u001b[43mentrenar\u001b[49m\u001b[43m(\u001b[49m\u001b[43mx\u001b[49m\u001b[43m,\u001b[49m\u001b[43m \u001b[49m\u001b[43my\u001b[49m\u001b[43m,\u001b[49m\u001b[43m \u001b[49m\u001b[38;5;241;43m0.3\u001b[39;49m\u001b[43m,\u001b[49m\u001b[43m \u001b[49m\u001b[38;5;241;43m50\u001b[39;49m\u001b[43m)\u001b[49m\n\u001b[0;32m     46\u001b[0m \u001b[38;5;124;03m\"\"\"\u001b[39;00m\n\u001b[0;32m     47\u001b[0m \u001b[38;5;124;03m=========================\u001b[39;00m\n\u001b[0;32m     48\u001b[0m \u001b[38;5;124;03mINFERENCE\u001b[39;00m\n\u001b[0;32m     49\u001b[0m \u001b[38;5;124;03m=========================\u001b[39;00m\n\u001b[0;32m     50\u001b[0m \u001b[38;5;124;03m\"\"\"\u001b[39;00m\n\u001b[0;32m     51\u001b[0m \u001b[38;5;28minput\u001b[39m \u001b[38;5;241m=\u001b[39m x[\u001b[38;5;241m0\u001b[39m]\n",
      "File \u001b[1;32mc:\\Users\\Erik\\Desktop\\Mis_cosas\\Code\\ImprovedPeppoBrain\\peppobrain\\model.py:54\u001b[0m, in \u001b[0;36mModel.entrenar\u001b[1;34m(self, X, Y, tasa_aprendizaje, epochs)\u001b[0m\n\u001b[0;32m     52\u001b[0m \u001b[38;5;28;01mfor\u001b[39;00m i \u001b[38;5;129;01min\u001b[39;00m \u001b[38;5;28mrange\u001b[39m(epochs):\n\u001b[0;32m     53\u001b[0m     A, activaciones, Zs \u001b[38;5;241m=\u001b[39m \u001b[38;5;28mself\u001b[39m(X)\n\u001b[1;32m---> 54\u001b[0m     \u001b[38;5;28;43mself\u001b[39;49m\u001b[38;5;241;43m.\u001b[39;49m\u001b[43mretropropagacion\u001b[49m\u001b[43m(\u001b[49m\u001b[43mY\u001b[49m\u001b[43m,\u001b[49m\u001b[43m \u001b[49m\u001b[43mactivaciones\u001b[49m\u001b[43m,\u001b[49m\u001b[43m \u001b[49m\u001b[43mZs\u001b[49m\u001b[43m,\u001b[49m\u001b[43m \u001b[49m\u001b[43mtasa_aprendizaje\u001b[49m\u001b[43m)\u001b[49m\n\u001b[0;32m     56\u001b[0m     \u001b[38;5;28;01mif\u001b[39;00m i \u001b[38;5;241m%\u001b[39m (epochs \u001b[38;5;241m/\u001b[39m \u001b[38;5;241m10\u001b[39m) \u001b[38;5;241m==\u001b[39m \u001b[38;5;241m0\u001b[39m:\n\u001b[0;32m     57\u001b[0m         loss \u001b[38;5;241m=\u001b[39m \u001b[38;5;28mself\u001b[39m\u001b[38;5;241m.\u001b[39mcalculate_loss(A, Y)\n",
      "File \u001b[1;32mc:\\Users\\Erik\\Desktop\\Mis_cosas\\Code\\ImprovedPeppoBrain\\peppobrain\\model.py:41\u001b[0m, in \u001b[0;36mModel.retropropagacion\u001b[1;34m(self, Y, activaciones, Zs, tasa_aprendizaje)\u001b[0m\n\u001b[0;32m     39\u001b[0m \u001b[38;5;28;01mfor\u001b[39;00m i \u001b[38;5;129;01min\u001b[39;00m \u001b[38;5;28mreversed\u001b[39m(\u001b[38;5;28mrange\u001b[39m(\u001b[38;5;28mlen\u001b[39m(\u001b[38;5;28mself\u001b[39m\u001b[38;5;241m.\u001b[39mcapas))):\n\u001b[0;32m     40\u001b[0m     dZ \u001b[38;5;241m=\u001b[39m dA_prev \u001b[38;5;241m*\u001b[39m \u001b[38;5;28mself\u001b[39m\u001b[38;5;241m.\u001b[39mcapas[i]\u001b[38;5;241m.\u001b[39mderivar(Zs[i])\n\u001b[1;32m---> 41\u001b[0m     dW \u001b[38;5;241m=\u001b[39m \u001b[38;5;241m1\u001b[39m \u001b[38;5;241m/\u001b[39m m \u001b[38;5;241m*\u001b[39m \u001b[43mdZ\u001b[49m\u001b[38;5;241;43m.\u001b[39;49m\u001b[43mdot\u001b[49m\u001b[43m(\u001b[49m\u001b[43mactivaciones\u001b[49m\u001b[43m[\u001b[49m\u001b[43mi\u001b[49m\u001b[43m]\u001b[49m\u001b[38;5;241;43m.\u001b[39;49m\u001b[43mT\u001b[49m\u001b[43m)\u001b[49m\n\u001b[0;32m     42\u001b[0m     db \u001b[38;5;241m=\u001b[39m \u001b[38;5;241m1\u001b[39m \u001b[38;5;241m/\u001b[39m m \u001b[38;5;241m*\u001b[39m np\u001b[38;5;241m.\u001b[39msum(dZ, axis\u001b[38;5;241m=\u001b[39m\u001b[38;5;241m1\u001b[39m, keepdims\u001b[38;5;241m=\u001b[39m\u001b[38;5;28;01mTrue\u001b[39;00m)\n\u001b[0;32m     44\u001b[0m     \u001b[38;5;28;01mif\u001b[39;00m i \u001b[38;5;241m>\u001b[39m \u001b[38;5;241m0\u001b[39m:\n",
      "\u001b[1;31mKeyboardInterrupt\u001b[0m: "
     ]
    }
   ],
   "source": [
    "import peppobrain_utils as pb_utils\n",
    "import peppobrain as pb\n",
    "import numpy as np\n",
    "\n",
    "\"\"\"\n",
    "=========================\n",
    "LOAD DATA\n",
    "=========================\n",
    "\"\"\"\n",
    "data_path = 'https://raw.githubusercontent.com/ErikSarriegui/PeppoBrain/refs/heads/main/dataset_example/mnist_train_example.csv'\n",
    "\n",
    "data = np.genfromtxt(data_path, delimiter=',', skip_header=1)\n",
    "\n",
    "\n",
    "\"\"\"\n",
    "=========================\n",
    "PREPARE DATA\n",
    "=========================\n",
    "\"\"\"\n",
    "mask = np.isnan(data).any(axis=1)\n",
    "data = data[~mask]\n",
    "\n",
    "y = data[:, 0].astype(int)\n",
    "x = data[:, 1:] / 255.0\n",
    "\n",
    "y = pb_utils.codificacion_one_hot(y)\n",
    "\n",
    "\"\"\"\n",
    "=========================\n",
    "DEFINE MODEL\n",
    "=========================\n",
    "\"\"\"\n",
    "model = pb.Model(\n",
    "    pb.CapaLinear(784, 128, pb.ReLU()),\n",
    "    pb.CapaLinear(128, 64, pb.ReLU()),\n",
    "    pb.CapaLinear(64, 10, pb.Softmax())\n",
    ")\n",
    "\n",
    "\"\"\"\n",
    "=========================\n",
    "TRAIN MODEL\n",
    "=========================\n",
    "\"\"\"\n",
    "model.entrenar(x, y, 0.3, 50)\n",
    "\n",
    "\"\"\"\n",
    "=========================\n",
    "INFERENCE\n",
    "=========================\n",
    "\"\"\"\n",
    "input = x[0]\n",
    "\n",
    "output = model.inferencia(input)\n",
    "print(output)"
   ]
  }
 ],
 "metadata": {
  "kernelspec": {
   "display_name": "Python 3",
   "language": "python",
   "name": "python3"
  },
  "language_info": {
   "codemirror_mode": {
    "name": "ipython",
    "version": 3
   },
   "file_extension": ".py",
   "mimetype": "text/x-python",
   "name": "python",
   "nbconvert_exporter": "python",
   "pygments_lexer": "ipython3",
   "version": "3.12.6"
  }
 },
 "nbformat": 4,
 "nbformat_minor": 2
}
